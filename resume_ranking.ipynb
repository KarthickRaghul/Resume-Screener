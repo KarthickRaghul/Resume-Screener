{
 "cells": [
  {
   "cell_type": "code",
   "execution_count": 1,
   "id": "9f0dfeef-9144-4fa5-aa3f-65fa3f0e3d7b",
   "metadata": {},
   "outputs": [
    {
     "ename": "ModuleNotFoundError",
     "evalue": "No module named 'streamlit'",
     "output_type": "error",
     "traceback": [
      "\u001b[31m---------------------------------------------------------------------------\u001b[39m",
      "\u001b[31mModuleNotFoundError\u001b[39m                       Traceback (most recent call last)",
      "\u001b[36mCell\u001b[39m\u001b[36m \u001b[39m\u001b[32mIn[1]\u001b[39m\u001b[32m, line 1\u001b[39m\n\u001b[32m----> \u001b[39m\u001b[32m1\u001b[39m \u001b[38;5;28;01mimport\u001b[39;00m\u001b[38;5;250m \u001b[39m\u001b[34;01mstreamlit\u001b[39;00m\u001b[38;5;250m \u001b[39m\u001b[38;5;28;01mas\u001b[39;00m\u001b[38;5;250m \u001b[39m\u001b[34;01mst\u001b[39;00m\n\u001b[32m      2\u001b[39m \u001b[38;5;28;01mfrom\u001b[39;00m\u001b[38;5;250m \u001b[39m\u001b[34;01mPyPDF2\u001b[39;00m\u001b[38;5;250m \u001b[39m\u001b[38;5;28;01mimport\u001b[39;00m PdfReader\n\u001b[32m      3\u001b[39m \u001b[38;5;28;01mimport\u001b[39;00m\u001b[38;5;250m \u001b[39m\u001b[34;01mpandas\u001b[39;00m\u001b[38;5;250m \u001b[39m\u001b[38;5;28;01mas\u001b[39;00m\u001b[38;5;250m \u001b[39m\u001b[34;01mpd\u001b[39;00m\n",
      "\u001b[31mModuleNotFoundError\u001b[39m: No module named 'streamlit'"
     ]
    }
   ],
   "source": [
    "import streamlit as st\n",
    "from PyPDF2 import PdfReader\n",
    "import pandas as pd\n",
    "from sklearn.feature_extraction.text import TfidfVectorizer\n",
    "from sklearn.metrics.pairwise import cosine_similarity"
   ]
  },
  {
   "cell_type": "code",
   "execution_count": 2,
   "id": "adeaac88-5c56-4971-bb3f-59c4bbb60c4a",
   "metadata": {},
   "outputs": [],
   "source": [
    "# Function to extract text from PDF\n",
    "def extract_text_from_pdf(file):\n",
    "    pdf = PdfReader(file)\n",
    "    text = \"\"\n",
    "    for page in pdf.pages:\n",
    "        text += page.extract_text()\n",
    "    return text"
   ]
  },
  {
   "cell_type": "code",
   "execution_count": 3,
   "id": "5346adba-c7be-43e0-8962-c8ea95db7c18",
   "metadata": {},
   "outputs": [
    {
     "ename": "SyntaxError",
     "evalue": "invalid syntax (1553710507.py, line 6)",
     "output_type": "error",
     "traceback": [
      "  \u001b[36mCell\u001b[39m\u001b[36m \u001b[39m\u001b[32mIn[3]\u001b[39m\u001b[32m, line 6\u001b[39m\n\u001b[31m    \u001b[39m\u001b[31mvectors vectorizer.toarray()\u001b[39m\n            ^\n\u001b[31mSyntaxError\u001b[39m\u001b[31m:\u001b[39m invalid syntax\n"
     ]
    }
   ],
   "source": [
    "# Function to rank resumes based on job description\n",
    "def rank_resumes(job_description, resumes):\n",
    "    # Combine job description with resumes\n",
    "    documents [job_description] + resumes\n",
    "    vectorizer = TfidfVectorizer().fit_transform(documents)\n",
    "    vectors vectorizer.toarray()\n",
    "\n",
    "    # Calculate cosine similarity\n",
    "    job_description_vector = vectors[0]\n",
    "    resume_vectors = vectors [1:]\n",
    "    cosine_similarities = cosine_similarity ([job_description_vector], resume_vectors).flatten()\n",
    "    \n",
    "    return cosine_similarities"
   ]
  },
  {
   "cell_type": "code",
   "execution_count": 4,
   "id": "fe4f6753-d769-43c4-891a-4874d57ebdf6",
   "metadata": {},
   "outputs": [
    {
     "ename": "NameError",
     "evalue": "name 'st' is not defined",
     "output_type": "error",
     "traceback": [
      "\u001b[31m---------------------------------------------------------------------------\u001b[39m",
      "\u001b[31mNameError\u001b[39m                                 Traceback (most recent call last)",
      "\u001b[36mCell\u001b[39m\u001b[36m \u001b[39m\u001b[32mIn[4]\u001b[39m\u001b[32m, line 2\u001b[39m\n\u001b[32m      1\u001b[39m \u001b[38;5;66;03m# Streamlit app\u001b[39;00m\n\u001b[32m----> \u001b[39m\u001b[32m2\u001b[39m \u001b[43mst\u001b[49m.title(\u001b[33m\"\u001b[39m\u001b[33mAI Resume Screening & Candidate Ranking System\u001b[39m\u001b[33m\"\u001b[39m)\n\u001b[32m      3\u001b[39m \u001b[38;5;66;03m# Job description input\u001b[39;00m\n\u001b[32m      4\u001b[39m st.header(\u001b[33m\"\u001b[39m\u001b[33mJob Description\u001b[39m\u001b[33m\"\u001b[39m)\n",
      "\u001b[31mNameError\u001b[39m: name 'st' is not defined"
     ]
    }
   ],
   "source": [
    "# Streamlit app\n",
    "st.title(\"AI Resume Screening & Candidate Ranking System\")\n",
    "# Job description input\n",
    "st.header(\"Job Description\")\n",
    "job_description= st.text_area (\"Enter the job description\")"
   ]
  },
  {
   "cell_type": "code",
   "execution_count": 5,
   "id": "8b4202d6-4e09-4119-b1fd-9adb991b4ab5",
   "metadata": {},
   "outputs": [
    {
     "ename": "NameError",
     "evalue": "name 'st' is not defined",
     "output_type": "error",
     "traceback": [
      "\u001b[31m---------------------------------------------------------------------------\u001b[39m",
      "\u001b[31mNameError\u001b[39m                                 Traceback (most recent call last)",
      "\u001b[36mCell\u001b[39m\u001b[36m \u001b[39m\u001b[32mIn[5]\u001b[39m\u001b[32m, line 2\u001b[39m\n\u001b[32m      1\u001b[39m \u001b[38;5;66;03m# File uploader\u001b[39;00m\n\u001b[32m----> \u001b[39m\u001b[32m2\u001b[39m \u001b[43mst\u001b[49m.header(\u001b[33m\"\u001b[39m\u001b[33mUpload Resumes\u001b[39m\u001b[33m\"\u001b[39m)\n\u001b[32m      3\u001b[39m uploaded_files = st.file_uploader(\u001b[33m\"\u001b[39m\u001b[33mUpload PDF files\u001b[39m\u001b[33m\"\u001b[39m, \u001b[38;5;28mtype\u001b[39m=[\u001b[33m\"\u001b[39m\u001b[33mpdf\u001b[39m\u001b[33m\"\u001b[39m], accept_multiple_files=\u001b[38;5;28;01mTrue\u001b[39;00m)\n",
      "\u001b[31mNameError\u001b[39m: name 'st' is not defined"
     ]
    }
   ],
   "source": [
    "# File uploader\n",
    "st.header(\"Upload Resumes\")\n",
    "uploaded_files = st.file_uploader(\"Upload PDF files\", type=[\"pdf\"], accept_multiple_files=True)"
   ]
  },
  {
   "cell_type": "code",
   "execution_count": 6,
   "id": "8e218fd3-19a8-4514-98bb-e5d6672df465",
   "metadata": {},
   "outputs": [
    {
     "ename": "NameError",
     "evalue": "name 'uploaded_files' is not defined",
     "output_type": "error",
     "traceback": [
      "\u001b[31m---------------------------------------------------------------------------\u001b[39m",
      "\u001b[31mNameError\u001b[39m                                 Traceback (most recent call last)",
      "\u001b[36mCell\u001b[39m\u001b[36m \u001b[39m\u001b[32mIn[6]\u001b[39m\u001b[32m, line 1\u001b[39m\n\u001b[32m----> \u001b[39m\u001b[32m1\u001b[39m \u001b[38;5;28;01mif\u001b[39;00m \u001b[43muploaded_files\u001b[49m \u001b[38;5;129;01mand\u001b[39;00m job_description:\n\u001b[32m      2\u001b[39m     st.header(\u001b[33m\"\u001b[39m\u001b[33mRanking Resumes\u001b[39m\u001b[33m\"\u001b[39m)\n\u001b[32m      4\u001b[39m     resumes = []\n",
      "\u001b[31mNameError\u001b[39m: name 'uploaded_files' is not defined"
     ]
    }
   ],
   "source": [
    "if uploaded_files and job_description:\n",
    "    st.header(\"Ranking Resumes\")\n",
    "    \n",
    "    resumes = []\n",
    "    for file in uploaded_files:\n",
    "        text = extract_text_from_pdf(file)\n",
    "        resumes.append(text)\n",
    "\n",
    "    # Rank resumes\n",
    "    scores = rank_resumes(job_description, resumes)\n",
    "\n",
    "    # Display scores\n",
    "    results = pd.DataFrame({\"Resume\": [file.name for file in uploaded_files], \"Score\": score })\n",
    "    results = results.sort_values(by=\"Score\", ascending=False)\n",
    "    \n",
    "    st.write(results)"
   ]
  }
 ],
 "metadata": {
  "kernelspec": {
   "display_name": "Python 3 (ipykernel)",
   "language": "python",
   "name": "python3"
  },
  "language_info": {
   "codemirror_mode": {
    "name": "ipython",
    "version": 3
   },
   "file_extension": ".py",
   "mimetype": "text/x-python",
   "name": "python",
   "nbconvert_exporter": "python",
   "pygments_lexer": "ipython3",
   "version": "3.13.2"
  }
 },
 "nbformat": 4,
 "nbformat_minor": 5
}
